{
 "cells": [
  {
   "cell_type": "code",
   "execution_count": 2,
   "metadata": {},
   "outputs": [
    {
     "name": "stdout",
     "output_type": "stream",
     "text": [
      "[1 2 3 4 5 6]\n"
     ]
    }
   ],
   "source": [
    "import numpy as np\n",
    "\n",
    "num = np.array([1, 2, 3, 4, 5, 6])\n",
    "\n",
    "print(num)"
   ]
  },
  {
   "cell_type": "code",
   "execution_count": 3,
   "metadata": {},
   "outputs": [
    {
     "name": "stdout",
     "output_type": "stream",
     "text": [
      "3.5\n",
      "3.5\n"
     ]
    },
    {
     "ename": "IndexError",
     "evalue": "invalid index to scalar variable.",
     "output_type": "error",
     "traceback": [
      "\u001b[0;31m---------------------------------------------------------------------------\u001b[0m",
      "\u001b[0;31mIndexError\u001b[0m                                Traceback (most recent call last)",
      "Cell \u001b[0;32mIn[3], line 14\u001b[0m\n\u001b[1;32m     11\u001b[0m \u001b[38;5;28;01mfrom\u001b[39;00m \u001b[38;5;21;01mscipy\u001b[39;00m \u001b[38;5;28;01mimport\u001b[39;00m stats\n\u001b[1;32m     13\u001b[0m 𝒎𝒐𝒅𝒆_𝒓𝒆𝒔𝒖𝒍𝒕 \u001b[38;5;241m=\u001b[39m 𝒔𝒕𝒂𝒕𝒔\u001b[38;5;241m.\u001b[39m𝒎𝒐𝒅𝒆(num)\n\u001b[0;32m---> 14\u001b[0m 𝒎𝒐𝒅𝒆 \u001b[38;5;241m=\u001b[39m \u001b[43m𝒎𝒐𝒅𝒆_𝒓𝒆𝒔𝒖𝒍𝒕\u001b[49m\u001b[38;5;241;43m.\u001b[39;49m\u001b[43m𝒎𝒐𝒅𝒆\u001b[49m\u001b[43m[\u001b[49m\u001b[38;5;241;43m0\u001b[39;49m\u001b[43m]\u001b[49m\n\u001b[1;32m     16\u001b[0m \u001b[38;5;28mprint\u001b[39m(𝒎𝒐𝒅𝒆)\n",
      "\u001b[0;31mIndexError\u001b[0m: invalid index to scalar variable."
     ]
    }
   ],
   "source": [
    "# Getting Mean of the array\n",
    "\n",
    "print(np.mean(num))\n",
    "\n",
    "# Getting Median of the array\n",
    "\n",
    "print(np.median(num))\n",
    "\n",
    "# Getting Mode of the array\n",
    "\n",
    "from scipy import stats\n",
    "\n",
    "𝒎𝒐𝒅𝒆_𝒓𝒆𝒔𝒖𝒍𝒕 = 𝒔𝒕𝒂𝒕𝒔.𝒎𝒐𝒅𝒆(num)\n",
    "𝒎𝒐𝒅𝒆 = 𝒎𝒐𝒅𝒆_𝒓𝒆𝒔𝒖𝒍𝒕.𝒎𝒐𝒅𝒆[0]\n",
    "\n",
    "print(𝒎𝒐𝒅𝒆)\n"
   ]
  },
  {
   "cell_type": "code",
   "execution_count": 4,
   "metadata": {},
   "outputs": [
    {
     "name": "stdout",
     "output_type": "stream",
     "text": [
      "1.707825127659933\n"
     ]
    }
   ],
   "source": [
    "# Getting Standard Deviation of the array\n",
    "\n",
    "print(np.std(num))"
   ]
  },
  {
   "cell_type": "code",
   "execution_count": 5,
   "metadata": {},
   "outputs": [
    {
     "name": "stdout",
     "output_type": "stream",
     "text": [
      "2.9166666666666665\n"
     ]
    }
   ],
   "source": [
    "# Getting Variance of the array\n",
    "\n",
    "print(np.var(num))"
   ]
  },
  {
   "cell_type": "code",
   "execution_count": 9,
   "metadata": {},
   "outputs": [
    {
     "name": "stdout",
     "output_type": "stream",
     "text": [
      "1.05\n",
      "6\n",
      "1\n",
      "21\n",
      "720\n"
     ]
    }
   ],
   "source": [
    "# Getting Percentile of the array\n",
    "\n",
    "print(np.percentile(num, 1))\n",
    "\n",
    "# Getting Maximum of the array\n",
    "\n",
    "print(np.max(num))\n",
    "\n",
    "# Getting Minimum of the array\n",
    "\n",
    "print(np.min(num))\n",
    "\n",
    "# Getting Sum of the array\n",
    "\n",
    "print(np.sum(num))\n",
    "\n",
    "# Getting Product of the array\n",
    "\n",
    "print(np.prod(num))\n"
   ]
  }
 ],
 "metadata": {
  "kernelspec": {
   "display_name": "Python 3",
   "language": "python",
   "name": "python3"
  },
  "language_info": {
   "codemirror_mode": {
    "name": "ipython",
    "version": 3
   },
   "file_extension": ".py",
   "mimetype": "text/x-python",
   "name": "python",
   "nbconvert_exporter": "python",
   "pygments_lexer": "ipython3",
   "version": "3.12.0"
  }
 },
 "nbformat": 4,
 "nbformat_minor": 2
}
