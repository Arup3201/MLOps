{
 "cells": [
  {
   "cell_type": "code",
   "execution_count": 7,
   "metadata": {},
   "outputs": [],
   "source": [
    "import sqlite3\n",
    "\n",
    "conn = sqlite3.connect('test.db')\n",
    "\n",
    "c = conn.cursor()\n",
    "\n",
    "# Create table\n",
    "\n",
    "c.execute(\n",
    "    '''\n",
    "    Create Table If Not Exists students\n",
    "    (id INTEGER PRIMARY KEY, name TEXT, age INTEGER)\n",
    " ''')\n",
    "\n",
    "conn.commit()"
   ]
  },
  {
   "cell_type": "code",
   "execution_count": 13,
   "metadata": {},
   "outputs": [],
   "source": [
    "# Insert a row of data\n",
    "\n",
    "c.execute(\"INSERT INTO students (name, age) VALUES ('John', 20)\")\n",
    "\n",
    "c.execute(\"INSERT INTO students (name, age) VALUES ('Jane', 21)\")\n",
    "\n",
    "c.execute(\"INSERT INTO students (name, age) VALUES ('Joe', 22)\")\n",
    "\n",
    "conn.commit()"
   ]
  },
  {
   "cell_type": "code",
   "execution_count": 14,
   "metadata": {},
   "outputs": [
    {
     "name": "stdout",
     "output_type": "stream",
     "text": [
      "[(1, 'John', 21), (2, 'John', 20), (3, 'Jane', 21), (4, 'Joe', 22)]\n",
      "(1, 'John', 21)\n",
      "(2, 'John', 20)\n",
      "(3, 'Jane', 21)\n",
      "(4, 'Joe', 22)\n"
     ]
    }
   ],
   "source": [
    "# Retrieve data\n",
    "\n",
    "c.execute(\"SELECT * FROM students\")\n",
    "\n",
    "data = c.fetchall()\n",
    "\n",
    "print(data)\n",
    "\n",
    "for student in data:\n",
    "    print(student)"
   ]
  },
  {
   "cell_type": "code",
   "execution_count": 11,
   "metadata": {},
   "outputs": [],
   "source": [
    "# Update data\n",
    "\n",
    "c.execute(\"UPDATE students SET age = 21 WHERE name = 'John'\")\n",
    "\n",
    "conn.commit()"
   ]
  },
  {
   "cell_type": "code",
   "execution_count": null,
   "metadata": {},
   "outputs": [],
   "source": [
    "# Close connection\n",
    "\n",
    "conn.close()"
   ]
  }
 ],
 "metadata": {
  "kernelspec": {
   "display_name": "Python 3",
   "language": "python",
   "name": "python3"
  },
  "language_info": {
   "codemirror_mode": {
    "name": "ipython",
    "version": 3
   },
   "file_extension": ".py",
   "mimetype": "text/x-python",
   "name": "python",
   "nbconvert_exporter": "python",
   "pygments_lexer": "ipython3",
   "version": "3.12.0"
  }
 },
 "nbformat": 4,
 "nbformat_minor": 2
}
