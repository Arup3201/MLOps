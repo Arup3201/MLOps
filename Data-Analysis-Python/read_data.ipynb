{
 "cells": [
  {
   "cell_type": "code",
   "execution_count": 6,
   "metadata": {},
   "outputs": [
    {
     "name": "stdout",
     "output_type": "stream",
     "text": [
      "    name  age      city\n",
      "0   John   23  New York\n",
      "1   Anna   36     Paris\n",
      "2  Peter   34    Berlin\n",
      "3  Linda   21    London\n",
      "[{\"name\":\"John\",\"age\":23,\"city\":\"New York\"},{\"name\":\"Anna\",\"age\":36,\"city\":\"Paris\"},{\"name\":\"Peter\",\"age\":34,\"city\":\"Berlin\"},{\"name\":\"Linda\",\"age\":21,\"city\":\"London\"}]\n"
     ]
    }
   ],
   "source": [
    "import pandas as pd\n",
    "import io\n",
    "\n",
    "dummy_json = '{\"name\": [\"John\", \"Anna\", \"Peter\", \"Linda\"], \"age\": [23, 36, 34, 21], \"city\": [\"New York\", \"Paris\", \"Berlin\", \"London\"]}'\n",
    "\n",
    "df = pd.read_json(io.StringIO(dummy_json))\n",
    "print(df)\n",
    "\n",
    "# Back to JSON\n",
    "\n",
    "print(df.to_json(orient='records'))\n"
   ]
  },
  {
   "cell_type": "code",
   "execution_count": 10,
   "metadata": {},
   "outputs": [
    {
     "name": "stdout",
     "output_type": "stream",
     "text": [
      "          0         1                                      2  \\\n",
      "0  order_id  quantity                              item_name   \n",
      "1         1         1           Chips and Fresh Tomato Salsa   \n",
      "2         1         1                                   Izze   \n",
      "3         1         1                       Nantucket Nectar   \n",
      "4         1         1  Chips and Tomatillo-Green Chili Salsa   \n",
      "\n",
      "                    3           4  \n",
      "0  choice_description  item_price  \n",
      "1                 NaN      $2.39   \n",
      "2        [Clementine]      $3.39   \n",
      "3             [Apple]      $3.39   \n",
      "4                 NaN      $2.39   \n"
     ]
    }
   ],
   "source": [
    "# Read a URL\n",
    "\n",
    "url = 'https://raw.githubusercontent.com/justmarkham/DAT8/master/data/chipotle.tsv'\n",
    "\n",
    "df = pd.read_csv(url, sep='\\t',header=None)\n",
    "\n",
    "print(df.head())\n",
    "\n",
    "# Convert to CSV\n",
    "\n",
    "df.to_csv('chipotle.csv', index=False)"
   ]
  },
  {
   "cell_type": "code",
   "execution_count": null,
   "metadata": {},
   "outputs": [],
   "source": [
    "# Read a HTML \n",
    "\n",
    "url = 'https://www.fdic.gov/bank/individual/failed/banklist.html'\n",
    "\n",
    "df = pd.read_html(url)\n",
    "\n",
    "print(df[0].head())"
   ]
  },
  {
   "cell_type": "code",
   "execution_count": null,
   "metadata": {},
   "outputs": [],
   "source": [
    "# Read a Excel\n",
    "\n",
    "url = 'https://file-examples.com/wp-content/uploads/2017/02/file_example_XLS_10.xls'\n",
    "\n",
    "df = pd.read_excel(url)\n",
    "\n",
    "print(df.head())"
   ]
  },
  {
   "cell_type": "code",
   "execution_count": null,
   "metadata": {},
   "outputs": [],
   "source": [
    "# Convert to Pickle\n",
    "\n",
    "df.to_pickle('file_example_XLS_10.pkl')\n",
    "\n",
    "# Read a Pickle\n",
    "\n",
    "df = pd.read_pickle('file_example_XLS_10.pkl')\n",
    "\n",
    "print(df.head())"
   ]
  }
 ],
 "metadata": {
  "kernelspec": {
   "display_name": "Python 3",
   "language": "python",
   "name": "python3"
  },
  "language_info": {
   "codemirror_mode": {
    "name": "ipython",
    "version": 3
   },
   "file_extension": ".py",
   "mimetype": "text/x-python",
   "name": "python",
   "nbconvert_exporter": "python",
   "pygments_lexer": "ipython3",
   "version": "3.12.0"
  }
 },
 "nbformat": 4,
 "nbformat_minor": 2
}
