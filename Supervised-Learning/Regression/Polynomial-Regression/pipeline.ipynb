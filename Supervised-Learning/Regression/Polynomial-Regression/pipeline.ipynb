{
 "cells": [
  {
   "cell_type": "code",
   "execution_count": 1,
   "metadata": {},
   "outputs": [],
   "source": [
    "import pandas as pd\n",
    "import numpy as np\n",
    "import matplotlib.pyplot as plt\n",
    "import seaborn as sns"
   ]
  },
  {
   "cell_type": "code",
   "execution_count": null,
   "metadata": {},
   "outputs": [],
   "source": [
    "#Pipeline \n",
    "from sklearn.preprocessing import PolynomialFeatures\n",
    "from sklearn.pipeline import Pipeline\n",
    "from sklearn.linear_model import LinearRegression\n",
    "\n",
    "def poly_regression(degree):\n",
    "    X = np.linspace(-3, 3, 200).reshape(200, 1)\n",
    "    poly_features = PolynomialFeatures(degree=10, include_bias=True)\n",
    "    lin_reg = LinearRegression()\n",
    "\n",
    "    pipeline = Pipeline([\n",
    "        (\"poly_features\", poly_features),\n",
    "        (\"lin_reg\", lin_reg)\n",
    "    ])\n",
    "\n",
    "    pipeline.fit(X, y)\n",
    "\n",
    "    y_pred = pipeline.predict(X)\n",
    "\n",
    "    plt.plot(X, y_pred, label='degree={}'.format(degree))\n",
    "    plt.legend()\n",
    "    plt.scatter(X, y, color='black')\n",
    "    plt.show()\n",
    "\n"
   ]
  }
 ],
 "metadata": {
  "kernelspec": {
   "display_name": "Python 3",
   "language": "python",
   "name": "python3"
  },
  "language_info": {
   "codemirror_mode": {
    "name": "ipython",
    "version": 3
   },
   "file_extension": ".py",
   "mimetype": "text/x-python",
   "name": "python",
   "nbconvert_exporter": "python",
   "pygments_lexer": "ipython3",
   "version": "3.12.0"
  }
 },
 "nbformat": 4,
 "nbformat_minor": 2
}
