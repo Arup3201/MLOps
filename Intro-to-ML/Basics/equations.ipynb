{
 "cells": [
  {
   "cell_type": "code",
   "execution_count": 1,
   "metadata": {},
   "outputs": [
    {
     "name": "stdout",
     "output_type": "stream",
     "text": [
      "11\n",
      "32\n",
      "70\n"
     ]
    }
   ],
   "source": [
    "# Equations of 2D, 3D and Hyperplanes\n",
    "\n",
    "import numpy as np\n",
    "\n",
    "# 2D\n",
    "\n",
    "# y = mx + c\n",
    "\n",
    "def line2D(m, c, x):\n",
    "    y = m*x + c\n",
    "    return y\n",
    "\n",
    "# 3D\n",
    "\n",
    "# z = mx + ny + c\n",
    "\n",
    "def plane3D(m, n, c, x, y):\n",
    "    z = m*x + n*y + c\n",
    "    return z\n",
    "\n",
    "# Hyperplane\n",
    "\n",
    "# w = mx + ny + oz + c\n",
    "\n",
    "def hyperplane(m, n, o, c, x, y, z):\n",
    "    w = m*x + n*y + o*z + c\n",
    "    return w\n",
    "\n",
    "# Test\n",
    "\n",
    "print(line2D(2, 3, 4))\n",
    "print(plane3D(2, 3, 4, 5, 6))\n",
    "print(hyperplane(2, 3, 4, 5, 6, 7, 8))"
   ]
  },
  {
   "cell_type": "code",
   "execution_count": 2,
   "metadata": {},
   "outputs": [
    {
     "name": "stdout",
     "output_type": "stream",
     "text": [
      "12.99867367239363\n"
     ]
    }
   ],
   "source": [
    "# Distance of a point from a plane\n",
    "\n",
    "def distance_point_plane(m, n, o, c, x, y, z):\n",
    "    d = abs(m*x + n*y + o*z + c) / np.sqrt(m**2 + n**2 + o**2)\n",
    "    return d\n",
    "\n",
    "# Test\n",
    "\n",
    "print(distance_point_plane(2, 3, 4, 5, 6, 7, 8))"
   ]
  }
 ],
 "metadata": {
  "kernelspec": {
   "display_name": "Python 3",
   "language": "python",
   "name": "python3"
  },
  "language_info": {
   "codemirror_mode": {
    "name": "ipython",
    "version": 3
   },
   "file_extension": ".py",
   "mimetype": "text/x-python",
   "name": "python",
   "nbconvert_exporter": "python",
   "pygments_lexer": "ipython3",
   "version": "3.12.0"
  }
 },
 "nbformat": 4,
 "nbformat_minor": 2
}
