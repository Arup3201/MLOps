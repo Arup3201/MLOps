{
 "cells": [
  {
   "cell_type": "code",
   "execution_count": 1,
   "metadata": {},
   "outputs": [],
   "source": [
    "# AI vs ML vs DL vs DS\n",
    "\n",
    "# AI: Artificial Intelligence\n",
    "\n",
    "# ML: Machine Learning\n",
    "\n",
    "# DL: Deep Learning\n",
    "\n",
    "# DS: Data Science\n",
    "\n",
    "# AI is the broadest term, encompassing all the other terms. It refers to the simulation of human intelligence in machines that are programmed to think like humans and mimic their actions. The term may also be applied to any machine that exhibits traits associated with a human mind such as learning and problem-solving.\n",
    "\n",
    "# ML is a subset of AI that focuses on the development of computer programs that can access data and use it to learn for themselves. The learning process starts with observations or data, such as examples, direct experience, or instruction, in order to look for patterns in data and make better decisions in the future based on the examples that we provide.\n",
    "\n",
    "# DL is a subset of ML that focuses on the development of computer programs that can access data and use it to learn for themselves. The learning process starts with observations or data, such as examples, direct experience, or instruction, in order to look for patterns in data and make better decisions in the future based on the examples that we provide.\n",
    "\n",
    "# DS is a field that uses scientific methods, processes, algorithms, and systems to extract knowledge and insights from structured and unstructured data. It employs techniques and theories drawn from many fields within the context of mathematics, statistics, computer science, domain knowledge, and information science."
   ]
  }
 ],
 "metadata": {
  "kernelspec": {
   "display_name": "Python 3",
   "language": "python",
   "name": "python3"
  },
  "language_info": {
   "codemirror_mode": {
    "name": "ipython",
    "version": 3
   },
   "file_extension": ".py",
   "mimetype": "text/x-python",
   "name": "python",
   "nbconvert_exporter": "python",
   "pygments_lexer": "ipython3",
   "version": "3.12.0"
  }
 },
 "nbformat": 4,
 "nbformat_minor": 2
}
