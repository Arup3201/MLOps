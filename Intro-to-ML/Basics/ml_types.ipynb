{
 "cells": [
  {
   "cell_type": "code",
   "execution_count": null,
   "metadata": {},
   "outputs": [],
   "source": [
    "# Types of Machine Learning\n",
    "\n",
    "# Supervised Learning\n",
    "\n",
    "# Supervised learning is where you have input variables (x) and an output variable (Y) and you use an algorithm to learn the mapping function from the input to the output.\n",
    "\n",
    "# Y = f(X)\n",
    "\n",
    "# The goal is to approximate the mapping function so well that when you have new input data (x) that you can predict the output variables (Y) for that data.\n",
    "\n",
    "# Unsupervised Learning\n",
    "\n",
    "# Unsupervised learning is where you only have input data (X) and no corresponding output variables.\n",
    "\n",
    "# The goal for unsupervised learning is to model the underlying structure or distribution in the data in order to learn more about the data.\n",
    "\n",
    "# Reinforcement Learning\n",
    "\n",
    "# Reinforcement Learning is a type of Machine Learning, and thereby also a branch of Artificial Intelligence. It allows machines and software agents to automatically determine the ideal behavior within a specific context, in order to maximize its performance. Simple reward feedback is required for the agent to learn its behavior; this is known as the reinforcement signal."
   ]
  },
  {
   "cell_type": "code",
   "execution_count": null,
   "metadata": {},
   "outputs": [],
   "source": [
    "# Instance-based Learning vs Model-based Learning\n",
    "\n",
    "# Instance-based learning is a type of supervised learning where the model is learned from the training data. It makes decisions based on the similarity of new data to the training data.\n",
    "\n",
    "# Model-based learning is a type of supervised learning where the model is first learned from the training data and then used to make predictions on the basis of patterns in the data.\n",
    "\n",
    "# Batch Learning vs Online Learning\n",
    "\n",
    "# Batch learning is where the model is trained on all of the available data at once.\n",
    "\n",
    "# Online learning is where the model is trained on the data incrementally as it becomes available."
   ]
  }
 ],
 "metadata": {
  "language_info": {
   "name": "python"
  }
 },
 "nbformat": 4,
 "nbformat_minor": 2
}
