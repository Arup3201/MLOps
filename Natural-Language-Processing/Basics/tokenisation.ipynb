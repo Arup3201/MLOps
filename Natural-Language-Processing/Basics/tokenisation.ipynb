{
 "cells": [
  {
   "cell_type": "code",
   "execution_count": 12,
   "metadata": {},
   "outputs": [],
   "source": [
    "corpus = \"\"\"Hello, my name is John. I am a software engineer.\n",
    "I am a software engineer. I am a software engineer. I am a software engineer.\n",
    "I am a software engineer. I am a software engineer. I am a software engineer.\n",
    "\"\"\""
   ]
  },
  {
   "cell_type": "code",
   "execution_count": 13,
   "metadata": {},
   "outputs": [
    {
     "name": "stderr",
     "output_type": "stream",
     "text": [
      "[nltk_data] Downloading package punkt to /Users/mac/nltk_data...\n",
      "[nltk_data]   Unzipping tokenizers/punkt.zip.\n"
     ]
    }
   ],
   "source": [
    "# Loading nltk\n",
    "\n",
    "import nltk\n",
    "\n",
    "# Downloading the punkt tokenizer\n",
    "\n",
    "nltk.download('punkt')\n",
    "\n"
   ]
  },
  {
   "cell_type": "code",
   "execution_count": 14,
   "metadata": {},
   "outputs": [
    {
     "name": "stdout",
     "output_type": "stream",
     "text": [
      "['Hello, my name is John.', 'I am a software engineer.', 'I am a software engineer.', 'I am a software engineer.', 'I am a software engineer.', 'I am a software engineer.', 'I am a software engineer.', 'I am a software engineer.']\n"
     ]
    }
   ],
   "source": [
    "# Corpus to sentences\n",
    "\n",
    "from nltk.tokenize import sent_tokenize\n",
    "\n",
    "sentences = sent_tokenize(corpus)\n",
    "\n",
    "print(sentences)"
   ]
  },
  {
   "cell_type": "code",
   "execution_count": 18,
   "metadata": {},
   "outputs": [
    {
     "name": "stdout",
     "output_type": "stream",
     "text": [
      "['Hello', ',', 'my', 'name', 'is', 'John', '.', 'I', 'am', 'a', 'software', 'engineer', '.', 'I', 'am', 'a', 'software', 'engineer', '.', 'I', 'am', 'a', 'software', 'engineer', '.', 'I', 'am', 'a', 'software', 'engineer', '.', 'I', 'am', 'a', 'software', 'engineer', '.', 'I', 'am', 'a', 'software', 'engineer', '.', 'I', 'am', 'a', 'software', 'engineer', '.']\n"
     ]
    }
   ],
   "source": [
    "# Corpus to words\n",
    "\n",
    "from nltk.tokenize import wordpunct_tokenize\n",
    "\n",
    "words = wordpunct_tokenize(corpus)\n",
    "\n",
    "print(words)"
   ]
  },
  {
   "cell_type": "code",
   "execution_count": 19,
   "metadata": {},
   "outputs": [
    {
     "name": "stdout",
     "output_type": "stream",
     "text": [
      "Hello\n",
      ",\n",
      "my\n",
      "name\n",
      "is\n",
      "John\n",
      ".\n",
      "I\n",
      "am\n",
      "a\n",
      "software\n",
      "engineer\n",
      ".\n",
      "I\n",
      "am\n",
      "a\n",
      "software\n",
      "engineer\n",
      ".\n",
      "I\n",
      "am\n",
      "a\n",
      "software\n",
      "engineer\n",
      ".\n",
      "I\n",
      "am\n",
      "a\n",
      "software\n",
      "engineer\n",
      ".\n",
      "I\n",
      "am\n",
      "a\n",
      "software\n",
      "engineer\n",
      ".\n",
      "I\n",
      "am\n",
      "a\n",
      "software\n",
      "engineer\n",
      ".\n",
      "I\n",
      "am\n",
      "a\n",
      "software\n",
      "engineer\n",
      ".\n"
     ]
    }
   ],
   "source": [
    "for word in words:\n",
    "    print(word)"
   ]
  }
 ],
 "metadata": {
  "kernelspec": {
   "display_name": "Python 3",
   "language": "python",
   "name": "python3"
  },
  "language_info": {
   "codemirror_mode": {
    "name": "ipython",
    "version": 3
   },
   "file_extension": ".py",
   "mimetype": "text/x-python",
   "name": "python",
   "nbconvert_exporter": "python",
   "pygments_lexer": "ipython3",
   "version": "3.12.0"
  }
 },
 "nbformat": 4,
 "nbformat_minor": 2
}
